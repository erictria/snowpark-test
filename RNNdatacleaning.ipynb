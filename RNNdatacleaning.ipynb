{
 "cells": [
  {
   "cell_type": "code",
   "execution_count": 1,
   "id": "57df8b52-7dae-4d4f-b550-8f83cff76c50",
   "metadata": {},
   "outputs": [],
   "source": [
    "import numpy as np\n",
    "import pandas as pd\n",
    "\n",
    "import os\n",
    "from dotenv import load_dotenv\n",
    "from snowflake.snowpark import Session"
   ]
  },
  {
   "cell_type": "code",
   "execution_count": 6,
   "id": "116447e7-9b5b-4d15-b6d7-8621157bdff7",
   "metadata": {},
   "outputs": [
    {
     "data": {
      "text/plain": [
       "True"
      ]
     },
     "execution_count": 6,
     "metadata": {},
     "output_type": "execute_result"
    }
   ],
   "source": [
    "load_dotenv()"
   ]
  },
  {
   "cell_type": "code",
   "execution_count": 7,
   "id": "84724fa5-dab7-45e7-be0b-3bd05ca51a2b",
   "metadata": {},
   "outputs": [
    {
     "name": "stdout",
     "output_type": "stream",
     "text": [
      "hum.us-east-2.aws ericatuva UVARND UVARND_WH CORE CLIENT\n"
     ]
    }
   ],
   "source": [
    "ACCOUNT = os.getenv('ACCOUNT')\n",
    "USER = os.getenv('SP_USER')\n",
    "PASSWORD = os.getenv('PASSWORD')\n",
    "ROLE = os.getenv('ROLE')\n",
    "WAREHOUSE = os.getenv('WAREHOUSE')\n",
    "DATABASE = os.getenv('DATABASE')\n",
    "SCHEMA = os.getenv('SCHEMA')\n",
    "\n",
    "print(ACCOUNT, USER, ROLE, WAREHOUSE, DATABASE, SCHEMA)"
   ]
  },
  {
   "cell_type": "code",
   "execution_count": 8,
   "id": "685feb3f-a866-48d7-9785-2058df6a5005",
   "metadata": {},
   "outputs": [],
   "source": [
    "connection_parameters = {\n",
    "    'account': os.getenv('ACCOUNT'),\n",
    "    'user': USER,\n",
    "    'password': os.getenv('PASSWORD'),\n",
    "    'role': 'RUP',\n",
    "    #'role': os.getenv('ROLE'),\n",
    "    'warehouse': os.getenv('WAREHOUSE'),\n",
    "    'database': os.getenv('DATABASE'),\n",
    "    'schema': os.getenv('SCHEMA')\n",
    "}"
   ]
  },
  {
   "cell_type": "code",
   "execution_count": 9,
   "id": "281527a7-9dbc-4b4a-8367-216195363157",
   "metadata": {},
   "outputs": [],
   "source": [
    "test_session = Session.builder.configs(connection_parameters).create()"
   ]
  },
  {
   "cell_type": "code",
   "execution_count": 10,
   "id": "d41af6dc-4d26-45e6-aa14-cb0c0bb29741",
   "metadata": {},
   "outputs": [],
   "source": [
    "events_query = \"\"\"\n",
    "SELECT \n",
    "    visitor_id\n",
    "    , event\n",
    "    , created\n",
    "FROM event\n",
    "WHERE DATE_TRUNC('year', day) = DATE('2022-01-01')\n",
    "\"\"\""
   ]
  },
  {
   "cell_type": "code",
   "execution_count": 11,
   "id": "018a7d7f-548e-4480-a877-0bf1b868cd7c",
   "metadata": {},
   "outputs": [
    {
     "name": "stdout",
     "output_type": "stream",
     "text": [
      "querying...\n",
      "query done\n",
      "session closed\n"
     ]
    }
   ],
   "source": [
    "print('querying...')\n",
    "query_results = test_session.sql(events_query).collect()\n",
    "print('query done')\n",
    "test_session.close()\n",
    "print('session closed')"
   ]
  },
  {
   "cell_type": "code",
   "execution_count": 12,
   "id": "1b97abcd-c82f-4c29-a09c-6b1bd9d0944e",
   "metadata": {},
   "outputs": [],
   "source": [
    "# convert to pandas df\n",
    "query_json = list(map(lambda x: x.as_dict(), query_results))\n",
    "query_df = pd.DataFrame(query_json)\n",
    "query_df.to_csv('data.csv', index = 0)\n",
    "# query_df = pd.read_csv('events_data.csv')"
   ]
  },
  {
   "cell_type": "code",
   "execution_count": 13,
   "id": "b14d13b8-1946-4b0a-8d3b-d5225dcc330a",
   "metadata": {},
   "outputs": [
    {
     "data": {
      "text/html": [
       "<div>\n",
       "<style scoped>\n",
       "    .dataframe tbody tr th:only-of-type {\n",
       "        vertical-align: middle;\n",
       "    }\n",
       "\n",
       "    .dataframe tbody tr th {\n",
       "        vertical-align: top;\n",
       "    }\n",
       "\n",
       "    .dataframe thead th {\n",
       "        text-align: right;\n",
       "    }\n",
       "</style>\n",
       "<table border=\"1\" class=\"dataframe\">\n",
       "  <thead>\n",
       "    <tr style=\"text-align: right;\">\n",
       "      <th></th>\n",
       "      <th>VISITOR_ID</th>\n",
       "      <th>EVENT</th>\n",
       "      <th>CREATED</th>\n",
       "    </tr>\n",
       "  </thead>\n",
       "  <tbody>\n",
       "    <tr>\n",
       "      <th>0</th>\n",
       "      <td>a8461296-6698-4287-8d32-27f6a40910bc</td>\n",
       "      <td>pageview</td>\n",
       "      <td>2022-06-17 01:50:40.525383</td>\n",
       "    </tr>\n",
       "    <tr>\n",
       "      <th>1</th>\n",
       "      <td>1df628fb-3f7f-4a86-8ea9-2cb13972f9cd</td>\n",
       "      <td>pageview</td>\n",
       "      <td>2022-10-23 09:16:27.306953</td>\n",
       "    </tr>\n",
       "    <tr>\n",
       "      <th>2</th>\n",
       "      <td>5b015762-8347-4ede-afff-325d7f30969e</td>\n",
       "      <td>post-read-end</td>\n",
       "      <td>2022-10-23 09:59:10.684398</td>\n",
       "    </tr>\n",
       "    <tr>\n",
       "      <th>3</th>\n",
       "      <td>dae8632d-03b5-4b61-8157-4b00cda6bbe4</td>\n",
       "      <td>post-read-end</td>\n",
       "      <td>2022-10-23 09:53:49.171193</td>\n",
       "    </tr>\n",
       "    <tr>\n",
       "      <th>4</th>\n",
       "      <td>20a79cfc-9f54-4e6a-a9e7-5ec25dce2447</td>\n",
       "      <td>pageview</td>\n",
       "      <td>2022-10-23 09:07:05.452466</td>\n",
       "    </tr>\n",
       "    <tr>\n",
       "      <th>...</th>\n",
       "      <td>...</td>\n",
       "      <td>...</td>\n",
       "      <td>...</td>\n",
       "    </tr>\n",
       "    <tr>\n",
       "      <th>10868387</th>\n",
       "      <td>c4f763b7-3f10-453e-ba7d-836594597cd5</td>\n",
       "      <td>post-read-start</td>\n",
       "      <td>2022-08-17 08:56:50.331150</td>\n",
       "    </tr>\n",
       "    <tr>\n",
       "      <th>10868388</th>\n",
       "      <td>ea430a65-3894-4a51-9aa5-054485e33ba9</td>\n",
       "      <td>pageview</td>\n",
       "      <td>2022-08-17 08:55:05.480175</td>\n",
       "    </tr>\n",
       "    <tr>\n",
       "      <th>10868389</th>\n",
       "      <td>82156c83-f68b-4d65-9c67-413361ec16d9</td>\n",
       "      <td>post-read-mid</td>\n",
       "      <td>2022-08-17 09:06:38.031812</td>\n",
       "    </tr>\n",
       "    <tr>\n",
       "      <th>10868390</th>\n",
       "      <td>d5b31ec1-67ba-4862-8f30-542cf2e28e24</td>\n",
       "      <td>post-read-end</td>\n",
       "      <td>2022-08-17 09:28:13.530097</td>\n",
       "    </tr>\n",
       "    <tr>\n",
       "      <th>10868391</th>\n",
       "      <td>29cd5784-7c4e-4e10-b18d-bc34c008be1e</td>\n",
       "      <td>post-read-end</td>\n",
       "      <td>2022-08-17 10:27:51.124078</td>\n",
       "    </tr>\n",
       "  </tbody>\n",
       "</table>\n",
       "<p>10868392 rows × 3 columns</p>\n",
       "</div>"
      ],
      "text/plain": [
       "                                    VISITOR_ID            EVENT  \\\n",
       "0         a8461296-6698-4287-8d32-27f6a40910bc         pageview   \n",
       "1         1df628fb-3f7f-4a86-8ea9-2cb13972f9cd         pageview   \n",
       "2         5b015762-8347-4ede-afff-325d7f30969e    post-read-end   \n",
       "3         dae8632d-03b5-4b61-8157-4b00cda6bbe4    post-read-end   \n",
       "4         20a79cfc-9f54-4e6a-a9e7-5ec25dce2447         pageview   \n",
       "...                                        ...              ...   \n",
       "10868387  c4f763b7-3f10-453e-ba7d-836594597cd5  post-read-start   \n",
       "10868388  ea430a65-3894-4a51-9aa5-054485e33ba9         pageview   \n",
       "10868389  82156c83-f68b-4d65-9c67-413361ec16d9    post-read-mid   \n",
       "10868390  d5b31ec1-67ba-4862-8f30-542cf2e28e24    post-read-end   \n",
       "10868391  29cd5784-7c4e-4e10-b18d-bc34c008be1e    post-read-end   \n",
       "\n",
       "                            CREATED  \n",
       "0        2022-06-17 01:50:40.525383  \n",
       "1        2022-10-23 09:16:27.306953  \n",
       "2        2022-10-23 09:59:10.684398  \n",
       "3        2022-10-23 09:53:49.171193  \n",
       "4        2022-10-23 09:07:05.452466  \n",
       "...                             ...  \n",
       "10868387 2022-08-17 08:56:50.331150  \n",
       "10868388 2022-08-17 08:55:05.480175  \n",
       "10868389 2022-08-17 09:06:38.031812  \n",
       "10868390 2022-08-17 09:28:13.530097  \n",
       "10868391 2022-08-17 10:27:51.124078  \n",
       "\n",
       "[10868392 rows x 3 columns]"
      ]
     },
     "execution_count": 13,
     "metadata": {},
     "output_type": "execute_result"
    }
   ],
   "source": [
    "data = query_df\n",
    "data"
   ]
  },
  {
   "cell_type": "code",
   "execution_count": 14,
   "id": "ecd11a00-23d0-4cc2-aad1-847ccc25b2e4",
   "metadata": {},
   "outputs": [
    {
     "data": {
      "text/html": [
       "<div>\n",
       "<style scoped>\n",
       "    .dataframe tbody tr th:only-of-type {\n",
       "        vertical-align: middle;\n",
       "    }\n",
       "\n",
       "    .dataframe tbody tr th {\n",
       "        vertical-align: top;\n",
       "    }\n",
       "\n",
       "    .dataframe thead th {\n",
       "        text-align: right;\n",
       "    }\n",
       "</style>\n",
       "<table border=\"1\" class=\"dataframe\">\n",
       "  <thead>\n",
       "    <tr style=\"text-align: right;\">\n",
       "      <th></th>\n",
       "      <th>VISITOR_ID</th>\n",
       "      <th>EVENT</th>\n",
       "      <th>CREATED</th>\n",
       "    </tr>\n",
       "  </thead>\n",
       "  <tbody>\n",
       "    <tr>\n",
       "      <th>0</th>\n",
       "      <td>a8461296-6698-4287-8d32-27f6a40910bc</td>\n",
       "      <td>pageview</td>\n",
       "      <td>2022-06-17 01:50:40.525383</td>\n",
       "    </tr>\n",
       "    <tr>\n",
       "      <th>1</th>\n",
       "      <td>1df628fb-3f7f-4a86-8ea9-2cb13972f9cd</td>\n",
       "      <td>pageview</td>\n",
       "      <td>2022-10-23 09:16:27.306953</td>\n",
       "    </tr>\n",
       "    <tr>\n",
       "      <th>2</th>\n",
       "      <td>5b015762-8347-4ede-afff-325d7f30969e</td>\n",
       "      <td>post-read-end</td>\n",
       "      <td>2022-10-23 09:59:10.684398</td>\n",
       "    </tr>\n",
       "    <tr>\n",
       "      <th>3</th>\n",
       "      <td>dae8632d-03b5-4b61-8157-4b00cda6bbe4</td>\n",
       "      <td>post-read-end</td>\n",
       "      <td>2022-10-23 09:53:49.171193</td>\n",
       "    </tr>\n",
       "    <tr>\n",
       "      <th>4</th>\n",
       "      <td>20a79cfc-9f54-4e6a-a9e7-5ec25dce2447</td>\n",
       "      <td>pageview</td>\n",
       "      <td>2022-10-23 09:07:05.452466</td>\n",
       "    </tr>\n",
       "    <tr>\n",
       "      <th>...</th>\n",
       "      <td>...</td>\n",
       "      <td>...</td>\n",
       "      <td>...</td>\n",
       "    </tr>\n",
       "    <tr>\n",
       "      <th>10868387</th>\n",
       "      <td>c4f763b7-3f10-453e-ba7d-836594597cd5</td>\n",
       "      <td>post-read-start</td>\n",
       "      <td>2022-08-17 08:56:50.331150</td>\n",
       "    </tr>\n",
       "    <tr>\n",
       "      <th>10868388</th>\n",
       "      <td>ea430a65-3894-4a51-9aa5-054485e33ba9</td>\n",
       "      <td>pageview</td>\n",
       "      <td>2022-08-17 08:55:05.480175</td>\n",
       "    </tr>\n",
       "    <tr>\n",
       "      <th>10868389</th>\n",
       "      <td>82156c83-f68b-4d65-9c67-413361ec16d9</td>\n",
       "      <td>post-read-mid</td>\n",
       "      <td>2022-08-17 09:06:38.031812</td>\n",
       "    </tr>\n",
       "    <tr>\n",
       "      <th>10868390</th>\n",
       "      <td>d5b31ec1-67ba-4862-8f30-542cf2e28e24</td>\n",
       "      <td>post-read-end</td>\n",
       "      <td>2022-08-17 09:28:13.530097</td>\n",
       "    </tr>\n",
       "    <tr>\n",
       "      <th>10868391</th>\n",
       "      <td>29cd5784-7c4e-4e10-b18d-bc34c008be1e</td>\n",
       "      <td>post-read-end</td>\n",
       "      <td>2022-08-17 10:27:51.124078</td>\n",
       "    </tr>\n",
       "  </tbody>\n",
       "</table>\n",
       "<p>9228191 rows × 3 columns</p>\n",
       "</div>"
      ],
      "text/plain": [
       "                                    VISITOR_ID            EVENT  \\\n",
       "0         a8461296-6698-4287-8d32-27f6a40910bc         pageview   \n",
       "1         1df628fb-3f7f-4a86-8ea9-2cb13972f9cd         pageview   \n",
       "2         5b015762-8347-4ede-afff-325d7f30969e    post-read-end   \n",
       "3         dae8632d-03b5-4b61-8157-4b00cda6bbe4    post-read-end   \n",
       "4         20a79cfc-9f54-4e6a-a9e7-5ec25dce2447         pageview   \n",
       "...                                        ...              ...   \n",
       "10868387  c4f763b7-3f10-453e-ba7d-836594597cd5  post-read-start   \n",
       "10868388  ea430a65-3894-4a51-9aa5-054485e33ba9         pageview   \n",
       "10868389  82156c83-f68b-4d65-9c67-413361ec16d9    post-read-mid   \n",
       "10868390  d5b31ec1-67ba-4862-8f30-542cf2e28e24    post-read-end   \n",
       "10868391  29cd5784-7c4e-4e10-b18d-bc34c008be1e    post-read-end   \n",
       "\n",
       "                            CREATED  \n",
       "0        2022-06-17 01:50:40.525383  \n",
       "1        2022-10-23 09:16:27.306953  \n",
       "2        2022-10-23 09:59:10.684398  \n",
       "3        2022-10-23 09:53:49.171193  \n",
       "4        2022-10-23 09:07:05.452466  \n",
       "...                             ...  \n",
       "10868387 2022-08-17 08:56:50.331150  \n",
       "10868388 2022-08-17 08:55:05.480175  \n",
       "10868389 2022-08-17 09:06:38.031812  \n",
       "10868390 2022-08-17 09:28:13.530097  \n",
       "10868391 2022-08-17 10:27:51.124078  \n",
       "\n",
       "[9228191 rows x 3 columns]"
      ]
     },
     "execution_count": 14,
     "metadata": {},
     "output_type": "execute_result"
    }
   ],
   "source": [
    "data.dropna(inplace = True)\n",
    "data"
   ]
  },
  {
   "cell_type": "code",
   "execution_count": 15,
   "id": "51a385cf-8043-4a83-a564-6408dfaafe2c",
   "metadata": {},
   "outputs": [
    {
     "data": {
      "text/plain": [
       "1437685"
      ]
     },
     "execution_count": 15,
     "metadata": {},
     "output_type": "execute_result"
    }
   ],
   "source": [
    "len(np.unique(data[['VISITOR_ID']]))"
   ]
  },
  {
   "cell_type": "code",
   "execution_count": 16,
   "id": "5e0856ba-4655-47ae-abef-b0f5ff6cc2ec",
   "metadata": {},
   "outputs": [
    {
     "data": {
      "text/plain": [
       "0       98719c0b-c648-4ea8-a0ca-1fd9ea458a4b\n",
       "1       b75ae8f1-5e4b-4cbd-b2af-2e4e008f4951\n",
       "2       a8c1ab55-e7f8-4ad9-8a3b-284e60944045\n",
       "3       3a3a35f3-ad31-40b8-9bc8-03068da11532\n",
       "4       a1c67daf-ad84-4cf2-be92-914dd1a5ceaa\n",
       "                        ...                 \n",
       "3625    738a430d-6cff-4076-ac87-c5f0cbcc296d\n",
       "3626    b308ed5b-b49f-491c-868a-18163945cf4c\n",
       "3627    30cac342-4d46-4030-ae6a-78906efdf24c\n",
       "3628    ad6c2ef7-7565-456f-9ebc-26c5e2e5840e\n",
       "3629    7e36a64a-1155-4aef-ab74-994511835953\n",
       "Name: index, Length: 3630, dtype: object"
      ]
     },
     "execution_count": 16,
     "metadata": {},
     "output_type": "execute_result"
    }
   ],
   "source": [
    "users = data.VISITOR_ID.value_counts().loc[lambda x: x >= 100].reset_index()['index']\n",
    "users"
   ]
  },
  {
   "cell_type": "code",
   "execution_count": null,
   "id": "ed78af78-d7a5-4443-8e0d-0c8ad522200d",
   "metadata": {
    "tags": []
   },
   "outputs": [],
   "source": [
    "df = pd.DataFrame()\n",
    "for user in users:\n",
    "    temp = data[data.VISITOR_ID == user]\n",
    "    arr = list(temp.sort_values('CREATED').iloc[:,1:].itertuples(index=False, name=None))\n",
    "    dat = pd.DataFrame({'user': user, 'engagement': [arr]})\n",
    "    df = pd.concat([df,dat])\n",
    "    \n",
    "df"
   ]
  },
  {
   "cell_type": "code",
   "execution_count": null,
   "id": "ce35f443-b189-418a-afb1-219d67fca5ba",
   "metadata": {},
   "outputs": [],
   "source": [
    "df.to_csv('RNNdata.csv', index = False)"
   ]
  },
  {
   "cell_type": "code",
   "execution_count": null,
   "id": "4c101204-4a6f-4f32-96aa-ffdb4ef4ac73",
   "metadata": {},
   "outputs": [],
   "source": [
    "reread = pd.read_csv('RNNdata.csv')\n",
    "reread"
   ]
  },
  {
   "cell_type": "code",
   "execution_count": null,
   "id": "85267a44-0bc1-4a3b-8c42-0684820c8493",
   "metadata": {},
   "outputs": [],
   "source": []
  }
 ],
 "metadata": {
  "kernelspec": {
   "display_name": "Python 3 (ipykernel)",
   "language": "python",
   "name": "python3"
  },
  "language_info": {
   "codemirror_mode": {
    "name": "ipython",
    "version": 3
   },
   "file_extension": ".py",
   "mimetype": "text/x-python",
   "name": "python",
   "nbconvert_exporter": "python",
   "pygments_lexer": "ipython3",
   "version": "3.8.13"
  }
 },
 "nbformat": 4,
 "nbformat_minor": 5
}
